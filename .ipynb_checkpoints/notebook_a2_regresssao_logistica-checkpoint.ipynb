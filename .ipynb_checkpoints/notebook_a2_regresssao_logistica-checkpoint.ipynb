{
 "cells": [
  {
   "cell_type": "markdown",
   "id": "227c7581",
   "metadata": {},
   "source": [
    "# Regressão Logística"
   ]
  },
  {
   "cell_type": "markdown",
   "id": "1e659aef",
   "metadata": {},
   "source": [
    "## Análise exploratória inicial"
   ]
  },
  {
   "cell_type": "markdown",
   "id": "7994c791",
   "metadata": {},
   "source": [
    "Começamos importando as bibliotecas necessárias para fazer as análises iniciais e posteriormente a Regressão Logística como desejamos:"
   ]
  },
  {
   "cell_type": "code",
   "execution_count": 59,
   "id": "b4f8348a",
   "metadata": {},
   "outputs": [],
   "source": [
    "import numpy as np\n",
    "import pandas as pd\n",
    "import seaborn as sns\n",
    "import matplotlib as plt"
   ]
  },
  {
   "cell_type": "markdown",
   "id": "d24b1dcf",
   "metadata": {},
   "source": [
    "Agora, vamos ler nossos dados do arquivo baixado da [UCI Machine Learning Repository](https://archive.ics.uci.edu/ml/datasets/default+of+credit+card+clients), utilizando a biblioteca pandas, savando na variável *dados*:"
   ]
  },
  {
   "cell_type": "code",
   "execution_count": 60,
   "id": "4e65cb18",
   "metadata": {},
   "outputs": [],
   "source": [
    "dados = pd.read_excel(\"default of credit card clients.xls\")"
   ]
  },
  {
   "cell_type": "markdown",
   "id": "87e28644",
   "metadata": {},
   "source": [
    "Vamos olhar como são nossos dados, as primeiras 5 observações são:"
   ]
  },
  {
   "cell_type": "code",
   "execution_count": 61,
   "id": "bd38f38a",
   "metadata": {
    "scrolled": true
   },
   "outputs": [
    {
     "data": {
      "text/html": [
       "<div>\n",
       "<style scoped>\n",
       "    .dataframe tbody tr th:only-of-type {\n",
       "        vertical-align: middle;\n",
       "    }\n",
       "\n",
       "    .dataframe tbody tr th {\n",
       "        vertical-align: top;\n",
       "    }\n",
       "\n",
       "    .dataframe thead th {\n",
       "        text-align: right;\n",
       "    }\n",
       "</style>\n",
       "<table border=\"1\" class=\"dataframe\">\n",
       "  <thead>\n",
       "    <tr style=\"text-align: right;\">\n",
       "      <th></th>\n",
       "      <th>Unnamed: 0</th>\n",
       "      <th>X1</th>\n",
       "      <th>X2</th>\n",
       "      <th>X3</th>\n",
       "      <th>X4</th>\n",
       "      <th>X5</th>\n",
       "      <th>X6</th>\n",
       "      <th>X7</th>\n",
       "      <th>X8</th>\n",
       "      <th>X9</th>\n",
       "      <th>...</th>\n",
       "      <th>X15</th>\n",
       "      <th>X16</th>\n",
       "      <th>X17</th>\n",
       "      <th>X18</th>\n",
       "      <th>X19</th>\n",
       "      <th>X20</th>\n",
       "      <th>X21</th>\n",
       "      <th>X22</th>\n",
       "      <th>X23</th>\n",
       "      <th>Y</th>\n",
       "    </tr>\n",
       "  </thead>\n",
       "  <tbody>\n",
       "    <tr>\n",
       "      <th>0</th>\n",
       "      <td>ID</td>\n",
       "      <td>LIMIT_BAL</td>\n",
       "      <td>SEX</td>\n",
       "      <td>EDUCATION</td>\n",
       "      <td>MARRIAGE</td>\n",
       "      <td>AGE</td>\n",
       "      <td>PAY_0</td>\n",
       "      <td>PAY_2</td>\n",
       "      <td>PAY_3</td>\n",
       "      <td>PAY_4</td>\n",
       "      <td>...</td>\n",
       "      <td>BILL_AMT4</td>\n",
       "      <td>BILL_AMT5</td>\n",
       "      <td>BILL_AMT6</td>\n",
       "      <td>PAY_AMT1</td>\n",
       "      <td>PAY_AMT2</td>\n",
       "      <td>PAY_AMT3</td>\n",
       "      <td>PAY_AMT4</td>\n",
       "      <td>PAY_AMT5</td>\n",
       "      <td>PAY_AMT6</td>\n",
       "      <td>default payment next month</td>\n",
       "    </tr>\n",
       "    <tr>\n",
       "      <th>1</th>\n",
       "      <td>1</td>\n",
       "      <td>20000</td>\n",
       "      <td>2</td>\n",
       "      <td>2</td>\n",
       "      <td>1</td>\n",
       "      <td>24</td>\n",
       "      <td>2</td>\n",
       "      <td>2</td>\n",
       "      <td>-1</td>\n",
       "      <td>-1</td>\n",
       "      <td>...</td>\n",
       "      <td>0</td>\n",
       "      <td>0</td>\n",
       "      <td>0</td>\n",
       "      <td>0</td>\n",
       "      <td>689</td>\n",
       "      <td>0</td>\n",
       "      <td>0</td>\n",
       "      <td>0</td>\n",
       "      <td>0</td>\n",
       "      <td>1</td>\n",
       "    </tr>\n",
       "    <tr>\n",
       "      <th>2</th>\n",
       "      <td>2</td>\n",
       "      <td>120000</td>\n",
       "      <td>2</td>\n",
       "      <td>2</td>\n",
       "      <td>2</td>\n",
       "      <td>26</td>\n",
       "      <td>-1</td>\n",
       "      <td>2</td>\n",
       "      <td>0</td>\n",
       "      <td>0</td>\n",
       "      <td>...</td>\n",
       "      <td>3272</td>\n",
       "      <td>3455</td>\n",
       "      <td>3261</td>\n",
       "      <td>0</td>\n",
       "      <td>1000</td>\n",
       "      <td>1000</td>\n",
       "      <td>1000</td>\n",
       "      <td>0</td>\n",
       "      <td>2000</td>\n",
       "      <td>1</td>\n",
       "    </tr>\n",
       "    <tr>\n",
       "      <th>3</th>\n",
       "      <td>3</td>\n",
       "      <td>90000</td>\n",
       "      <td>2</td>\n",
       "      <td>2</td>\n",
       "      <td>2</td>\n",
       "      <td>34</td>\n",
       "      <td>0</td>\n",
       "      <td>0</td>\n",
       "      <td>0</td>\n",
       "      <td>0</td>\n",
       "      <td>...</td>\n",
       "      <td>14331</td>\n",
       "      <td>14948</td>\n",
       "      <td>15549</td>\n",
       "      <td>1518</td>\n",
       "      <td>1500</td>\n",
       "      <td>1000</td>\n",
       "      <td>1000</td>\n",
       "      <td>1000</td>\n",
       "      <td>5000</td>\n",
       "      <td>0</td>\n",
       "    </tr>\n",
       "    <tr>\n",
       "      <th>4</th>\n",
       "      <td>4</td>\n",
       "      <td>50000</td>\n",
       "      <td>2</td>\n",
       "      <td>2</td>\n",
       "      <td>1</td>\n",
       "      <td>37</td>\n",
       "      <td>0</td>\n",
       "      <td>0</td>\n",
       "      <td>0</td>\n",
       "      <td>0</td>\n",
       "      <td>...</td>\n",
       "      <td>28314</td>\n",
       "      <td>28959</td>\n",
       "      <td>29547</td>\n",
       "      <td>2000</td>\n",
       "      <td>2019</td>\n",
       "      <td>1200</td>\n",
       "      <td>1100</td>\n",
       "      <td>1069</td>\n",
       "      <td>1000</td>\n",
       "      <td>0</td>\n",
       "    </tr>\n",
       "  </tbody>\n",
       "</table>\n",
       "<p>5 rows × 25 columns</p>\n",
       "</div>"
      ],
      "text/plain": [
       "  Unnamed: 0         X1   X2         X3        X4   X5     X6     X7     X8  \\\n",
       "0         ID  LIMIT_BAL  SEX  EDUCATION  MARRIAGE  AGE  PAY_0  PAY_2  PAY_3   \n",
       "1          1      20000    2          2         1   24      2      2     -1   \n",
       "2          2     120000    2          2         2   26     -1      2      0   \n",
       "3          3      90000    2          2         2   34      0      0      0   \n",
       "4          4      50000    2          2         1   37      0      0      0   \n",
       "\n",
       "      X9  ...        X15        X16        X17       X18       X19       X20  \\\n",
       "0  PAY_4  ...  BILL_AMT4  BILL_AMT5  BILL_AMT6  PAY_AMT1  PAY_AMT2  PAY_AMT3   \n",
       "1     -1  ...          0          0          0         0       689         0   \n",
       "2      0  ...       3272       3455       3261         0      1000      1000   \n",
       "3      0  ...      14331      14948      15549      1518      1500      1000   \n",
       "4      0  ...      28314      28959      29547      2000      2019      1200   \n",
       "\n",
       "        X21       X22       X23                           Y  \n",
       "0  PAY_AMT4  PAY_AMT5  PAY_AMT6  default payment next month  \n",
       "1         0         0         0                           1  \n",
       "2      1000         0      2000                           1  \n",
       "3      1000      1000      5000                           0  \n",
       "4      1100      1069      1000                           0  \n",
       "\n",
       "[5 rows x 25 columns]"
      ]
     },
     "execution_count": 61,
     "metadata": {},
     "output_type": "execute_result"
    }
   ],
   "source": [
    "dados.head(5) # Imprime na tela o resultado"
   ]
  },
  {
   "cell_type": "markdown",
   "id": "79c25085",
   "metadata": {},
   "source": [
    "Vemos acima que os nomes das colunas que queremos na realidade está na tabela como a primeira linha (de indice 0). Além disso, temos uma duplicidade no indice, pois foi criado um novo indice na tabela, sendo que já temos o ID original. Vamos corrigir isso:"
   ]
  },
  {
   "cell_type": "code",
   "execution_count": 62,
   "id": "7d77c6ea",
   "metadata": {
    "scrolled": false
   },
   "outputs": [
    {
     "data": {
      "text/html": [
       "<div>\n",
       "<style scoped>\n",
       "    .dataframe tbody tr th:only-of-type {\n",
       "        vertical-align: middle;\n",
       "    }\n",
       "\n",
       "    .dataframe tbody tr th {\n",
       "        vertical-align: top;\n",
       "    }\n",
       "\n",
       "    .dataframe thead th {\n",
       "        text-align: right;\n",
       "    }\n",
       "</style>\n",
       "<table border=\"1\" class=\"dataframe\">\n",
       "  <thead>\n",
       "    <tr style=\"text-align: right;\">\n",
       "      <th></th>\n",
       "      <th>LIMIT_BAL</th>\n",
       "      <th>SEX</th>\n",
       "      <th>EDUCATION</th>\n",
       "      <th>MARRIAGE</th>\n",
       "      <th>AGE</th>\n",
       "      <th>PAY_0</th>\n",
       "      <th>PAY_2</th>\n",
       "      <th>PAY_3</th>\n",
       "      <th>PAY_4</th>\n",
       "      <th>PAY_5</th>\n",
       "      <th>...</th>\n",
       "      <th>BILL_AMT4</th>\n",
       "      <th>BILL_AMT5</th>\n",
       "      <th>BILL_AMT6</th>\n",
       "      <th>PAY_AMT1</th>\n",
       "      <th>PAY_AMT2</th>\n",
       "      <th>PAY_AMT3</th>\n",
       "      <th>PAY_AMT4</th>\n",
       "      <th>PAY_AMT5</th>\n",
       "      <th>PAY_AMT6</th>\n",
       "      <th>default payment next month</th>\n",
       "    </tr>\n",
       "    <tr>\n",
       "      <th>ID</th>\n",
       "      <th></th>\n",
       "      <th></th>\n",
       "      <th></th>\n",
       "      <th></th>\n",
       "      <th></th>\n",
       "      <th></th>\n",
       "      <th></th>\n",
       "      <th></th>\n",
       "      <th></th>\n",
       "      <th></th>\n",
       "      <th></th>\n",
       "      <th></th>\n",
       "      <th></th>\n",
       "      <th></th>\n",
       "      <th></th>\n",
       "      <th></th>\n",
       "      <th></th>\n",
       "      <th></th>\n",
       "      <th></th>\n",
       "      <th></th>\n",
       "      <th></th>\n",
       "    </tr>\n",
       "  </thead>\n",
       "  <tbody>\n",
       "    <tr>\n",
       "      <th>1</th>\n",
       "      <td>20000</td>\n",
       "      <td>2</td>\n",
       "      <td>2</td>\n",
       "      <td>1</td>\n",
       "      <td>24</td>\n",
       "      <td>2</td>\n",
       "      <td>2</td>\n",
       "      <td>-1</td>\n",
       "      <td>-1</td>\n",
       "      <td>-2</td>\n",
       "      <td>...</td>\n",
       "      <td>0</td>\n",
       "      <td>0</td>\n",
       "      <td>0</td>\n",
       "      <td>0</td>\n",
       "      <td>689</td>\n",
       "      <td>0</td>\n",
       "      <td>0</td>\n",
       "      <td>0</td>\n",
       "      <td>0</td>\n",
       "      <td>1</td>\n",
       "    </tr>\n",
       "    <tr>\n",
       "      <th>2</th>\n",
       "      <td>120000</td>\n",
       "      <td>2</td>\n",
       "      <td>2</td>\n",
       "      <td>2</td>\n",
       "      <td>26</td>\n",
       "      <td>-1</td>\n",
       "      <td>2</td>\n",
       "      <td>0</td>\n",
       "      <td>0</td>\n",
       "      <td>0</td>\n",
       "      <td>...</td>\n",
       "      <td>3272</td>\n",
       "      <td>3455</td>\n",
       "      <td>3261</td>\n",
       "      <td>0</td>\n",
       "      <td>1000</td>\n",
       "      <td>1000</td>\n",
       "      <td>1000</td>\n",
       "      <td>0</td>\n",
       "      <td>2000</td>\n",
       "      <td>1</td>\n",
       "    </tr>\n",
       "    <tr>\n",
       "      <th>3</th>\n",
       "      <td>90000</td>\n",
       "      <td>2</td>\n",
       "      <td>2</td>\n",
       "      <td>2</td>\n",
       "      <td>34</td>\n",
       "      <td>0</td>\n",
       "      <td>0</td>\n",
       "      <td>0</td>\n",
       "      <td>0</td>\n",
       "      <td>0</td>\n",
       "      <td>...</td>\n",
       "      <td>14331</td>\n",
       "      <td>14948</td>\n",
       "      <td>15549</td>\n",
       "      <td>1518</td>\n",
       "      <td>1500</td>\n",
       "      <td>1000</td>\n",
       "      <td>1000</td>\n",
       "      <td>1000</td>\n",
       "      <td>5000</td>\n",
       "      <td>0</td>\n",
       "    </tr>\n",
       "  </tbody>\n",
       "</table>\n",
       "<p>3 rows × 24 columns</p>\n",
       "</div>"
      ],
      "text/plain": [
       "0  LIMIT_BAL SEX EDUCATION MARRIAGE AGE PAY_0 PAY_2 PAY_3 PAY_4 PAY_5  ...  \\\n",
       "ID                                                                     ...   \n",
       "1      20000   2         2        1  24     2     2    -1    -1    -2  ...   \n",
       "2     120000   2         2        2  26    -1     2     0     0     0  ...   \n",
       "3      90000   2         2        2  34     0     0     0     0     0  ...   \n",
       "\n",
       "0  BILL_AMT4 BILL_AMT5 BILL_AMT6 PAY_AMT1 PAY_AMT2 PAY_AMT3 PAY_AMT4 PAY_AMT5  \\\n",
       "ID                                                                              \n",
       "1          0         0         0        0      689        0        0        0   \n",
       "2       3272      3455      3261        0     1000     1000     1000        0   \n",
       "3      14331     14948     15549     1518     1500     1000     1000     1000   \n",
       "\n",
       "0  PAY_AMT6 default payment next month  \n",
       "ID                                      \n",
       "1         0                          1  \n",
       "2      2000                          1  \n",
       "3      5000                          0  \n",
       "\n",
       "[3 rows x 24 columns]"
      ]
     },
     "execution_count": 62,
     "metadata": {},
     "output_type": "execute_result"
    }
   ],
   "source": [
    "dados.columns = dados.iloc[0] # Renomeia o nome das colunas\n",
    "dados = dados.drop(index=0) # Remove a linha que estava com o nome das colunas \n",
    "dados.set_index(\"ID\", drop = True, inplace = True) # Muda o indice e exclui o antigo\n",
    "dados.head(3) # Imprime na tela o resultado"
   ]
  },
  {
   "cell_type": "markdown",
   "id": "44949b13",
   "metadata": {},
   "source": [
    "Agora que já temos nossos dados salvos corretamente, precisamos ver se não foi importado nenhum dado faltando, já que isso poderia ser um problema para as nossas análises. Vamos verificar isso visualizando num heatmap se há algum dado faltante (NaN - Not a Number):"
   ]
  },
  {
   "cell_type": "code",
   "execution_count": 63,
   "id": "0f6d0ccf",
   "metadata": {
    "scrolled": false
   },
   "outputs": [
    {
     "data": {
      "text/plain": [
       "<AxesSubplot:xlabel='0', ylabel='ID'>"
      ]
     },
     "execution_count": 63,
     "metadata": {},
     "output_type": "execute_result"
    },
    {
     "data": {
      "image/png": "[encoded data removed]",
      "text/plain": [
       "<Figure size 432x288 with 2 Axes>"
      ]
     },
     "metadata": {
      "needs_background": "light"
     },
     "output_type": "display_data"
    }
   ],
   "source": [
    "sns.heatmap(dados.isna()) # Heatmap dos valores faltantes"
   ]
  },
  {
   "cell_type": "markdown",
   "id": "8becd605",
   "metadata": {},
   "source": [
    "Acima podemos ver que aparentemente não temos nenhum dado faltante na tabela, porém, para ter uma dupla confirmação também podemos somar os dados faltante nas colunas e ver se aparece um resultado diferente de zero:"
   ]
  },
  {
   "cell_type": "code",
   "execution_count": 64,
   "id": "f1666b3f",
   "metadata": {
    "scrolled": false
   },
   "outputs": [
    {
     "data": {
      "text/plain": [
       "0\n",
       "LIMIT_BAL                     0\n",
       "SEX                           0\n",
       "EDUCATION                     0\n",
       "MARRIAGE                      0\n",
       "AGE                           0\n",
       "PAY_0                         0\n",
       "PAY_2                         0\n",
       "PAY_3                         0\n",
       "PAY_4                         0\n",
       "PAY_5                         0\n",
       "PAY_6                         0\n",
       "BILL_AMT1                     0\n",
       "BILL_AMT2                     0\n",
       "BILL_AMT3                     0\n",
       "BILL_AMT4                     0\n",
       "BILL_AMT5                     0\n",
       "BILL_AMT6                     0\n",
       "PAY_AMT1                      0\n",
       "PAY_AMT2                      0\n",
       "PAY_AMT3                      0\n",
       "PAY_AMT4                      0\n",
       "PAY_AMT5                      0\n",
       "PAY_AMT6                      0\n",
       "default payment next month    0\n",
       "dtype: int64"
      ]
     },
     "execution_count": 64,
     "metadata": {},
     "output_type": "execute_result"
    }
   ],
   "source": [
    "dados.isna().sum() # Soma os dados faltante (NaN) por coluna"
   ]
  },
  {
   "cell_type": "markdown",
   "id": "2bf219da",
   "metadata": {},
   "source": [
    "Com isso, já vimos que temos diversos dados contínuos, as contas dos meses anteriores. Vamos removê-las pois como já explicamos anteriormente, dados contínuos podem ser indesejados para a regressão logística (dos dados contínuos vamos manter apenas o limite de crédito). Então criamos nossa variável `x_real` com nossas variáveis independentes:"
   ]
  },
  {
   "cell_type": "code",
   "execution_count": 65,
   "id": "ec05e604",
   "metadata": {
    "scrolled": true
   },
   "outputs": [
    {
     "data": {
      "text/html": [
       "<div>\n",
       "<style scoped>\n",
       "    .dataframe tbody tr th:only-of-type {\n",
       "        vertical-align: middle;\n",
       "    }\n",
       "\n",
       "    .dataframe tbody tr th {\n",
       "        vertical-align: top;\n",
       "    }\n",
       "\n",
       "    .dataframe thead th {\n",
       "        text-align: right;\n",
       "    }\n",
       "</style>\n",
       "<table border=\"1\" class=\"dataframe\">\n",
       "  <thead>\n",
       "    <tr style=\"text-align: right;\">\n",
       "      <th></th>\n",
       "      <th>LIMIT_BAL</th>\n",
       "      <th>SEX</th>\n",
       "      <th>EDUCATION</th>\n",
       "      <th>MARRIAGE</th>\n",
       "      <th>AGE</th>\n",
       "      <th>PAY_0</th>\n",
       "      <th>PAY_2</th>\n",
       "      <th>PAY_3</th>\n",
       "      <th>PAY_4</th>\n",
       "      <th>PAY_5</th>\n",
       "      <th>PAY_6</th>\n",
       "    </tr>\n",
       "    <tr>\n",
       "      <th>ID</th>\n",
       "      <th></th>\n",
       "      <th></th>\n",
       "      <th></th>\n",
       "      <th></th>\n",
       "      <th></th>\n",
       "      <th></th>\n",
       "      <th></th>\n",
       "      <th></th>\n",
       "      <th></th>\n",
       "      <th></th>\n",
       "      <th></th>\n",
       "    </tr>\n",
       "  </thead>\n",
       "  <tbody>\n",
       "    <tr>\n",
       "      <th>1</th>\n",
       "      <td>20000</td>\n",
       "      <td>2</td>\n",
       "      <td>2</td>\n",
       "      <td>1</td>\n",
       "      <td>24</td>\n",
       "      <td>2</td>\n",
       "      <td>2</td>\n",
       "      <td>-1</td>\n",
       "      <td>-1</td>\n",
       "      <td>-2</td>\n",
       "      <td>-2</td>\n",
       "    </tr>\n",
       "    <tr>\n",
       "      <th>2</th>\n",
       "      <td>120000</td>\n",
       "      <td>2</td>\n",
       "      <td>2</td>\n",
       "      <td>2</td>\n",
       "      <td>26</td>\n",
       "      <td>-1</td>\n",
       "      <td>2</td>\n",
       "      <td>0</td>\n",
       "      <td>0</td>\n",
       "      <td>0</td>\n",
       "      <td>2</td>\n",
       "    </tr>\n",
       "    <tr>\n",
       "      <th>3</th>\n",
       "      <td>90000</td>\n",
       "      <td>2</td>\n",
       "      <td>2</td>\n",
       "      <td>2</td>\n",
       "      <td>34</td>\n",
       "      <td>0</td>\n",
       "      <td>0</td>\n",
       "      <td>0</td>\n",
       "      <td>0</td>\n",
       "      <td>0</td>\n",
       "      <td>0</td>\n",
       "    </tr>\n",
       "    <tr>\n",
       "      <th>4</th>\n",
       "      <td>50000</td>\n",
       "      <td>2</td>\n",
       "      <td>2</td>\n",
       "      <td>1</td>\n",
       "      <td>37</td>\n",
       "      <td>0</td>\n",
       "      <td>0</td>\n",
       "      <td>0</td>\n",
       "      <td>0</td>\n",
       "      <td>0</td>\n",
       "      <td>0</td>\n",
       "    </tr>\n",
       "    <tr>\n",
       "      <th>5</th>\n",
       "      <td>50000</td>\n",
       "      <td>1</td>\n",
       "      <td>2</td>\n",
       "      <td>1</td>\n",
       "      <td>57</td>\n",
       "      <td>-1</td>\n",
       "      <td>0</td>\n",
       "      <td>-1</td>\n",
       "      <td>0</td>\n",
       "      <td>0</td>\n",
       "      <td>0</td>\n",
       "    </tr>\n",
       "    <tr>\n",
       "      <th>...</th>\n",
       "      <td>...</td>\n",
       "      <td>...</td>\n",
       "      <td>...</td>\n",
       "      <td>...</td>\n",
       "      <td>...</td>\n",
       "      <td>...</td>\n",
       "      <td>...</td>\n",
       "      <td>...</td>\n",
       "      <td>...</td>\n",
       "      <td>...</td>\n",
       "      <td>...</td>\n",
       "    </tr>\n",
       "    <tr>\n",
       "      <th>29996</th>\n",
       "      <td>220000</td>\n",
       "      <td>1</td>\n",
       "      <td>3</td>\n",
       "      <td>1</td>\n",
       "      <td>39</td>\n",
       "      <td>0</td>\n",
       "      <td>0</td>\n",
       "      <td>0</td>\n",
       "      <td>0</td>\n",
       "      <td>0</td>\n",
       "      <td>0</td>\n",
       "    </tr>\n",
       "    <tr>\n",
       "      <th>29997</th>\n",
       "      <td>150000</td>\n",
       "      <td>1</td>\n",
       "      <td>3</td>\n",
       "      <td>2</td>\n",
       "      <td>43</td>\n",
       "      <td>-1</td>\n",
       "      <td>-1</td>\n",
       "      <td>-1</td>\n",
       "      <td>-1</td>\n",
       "      <td>0</td>\n",
       "      <td>0</td>\n",
       "    </tr>\n",
       "    <tr>\n",
       "      <th>29998</th>\n",
       "      <td>30000</td>\n",
       "      <td>1</td>\n",
       "      <td>2</td>\n",
       "      <td>2</td>\n",
       "      <td>37</td>\n",
       "      <td>4</td>\n",
       "      <td>3</td>\n",
       "      <td>2</td>\n",
       "      <td>-1</td>\n",
       "      <td>0</td>\n",
       "      <td>0</td>\n",
       "    </tr>\n",
       "    <tr>\n",
       "      <th>29999</th>\n",
       "      <td>80000</td>\n",
       "      <td>1</td>\n",
       "      <td>3</td>\n",
       "      <td>1</td>\n",
       "      <td>41</td>\n",
       "      <td>1</td>\n",
       "      <td>-1</td>\n",
       "      <td>0</td>\n",
       "      <td>0</td>\n",
       "      <td>0</td>\n",
       "      <td>-1</td>\n",
       "    </tr>\n",
       "    <tr>\n",
       "      <th>30000</th>\n",
       "      <td>50000</td>\n",
       "      <td>1</td>\n",
       "      <td>2</td>\n",
       "      <td>1</td>\n",
       "      <td>46</td>\n",
       "      <td>0</td>\n",
       "      <td>0</td>\n",
       "      <td>0</td>\n",
       "      <td>0</td>\n",
       "      <td>0</td>\n",
       "      <td>0</td>\n",
       "    </tr>\n",
       "  </tbody>\n",
       "</table>\n",
       "<p>30000 rows × 11 columns</p>\n",
       "</div>"
      ],
      "text/plain": [
       "0     LIMIT_BAL SEX EDUCATION MARRIAGE AGE PAY_0 PAY_2 PAY_3 PAY_4 PAY_5 PAY_6\n",
       "ID                                                                            \n",
       "1         20000   2         2        1  24     2     2    -1    -1    -2    -2\n",
       "2        120000   2         2        2  26    -1     2     0     0     0     2\n",
       "3         90000   2         2        2  34     0     0     0     0     0     0\n",
       "4         50000   2         2        1  37     0     0     0     0     0     0\n",
       "5         50000   1         2        1  57    -1     0    -1     0     0     0\n",
       "...         ...  ..       ...      ...  ..   ...   ...   ...   ...   ...   ...\n",
       "29996    220000   1         3        1  39     0     0     0     0     0     0\n",
       "29997    150000   1         3        2  43    -1    -1    -1    -1     0     0\n",
       "29998     30000   1         2        2  37     4     3     2    -1     0     0\n",
       "29999     80000   1         3        1  41     1    -1     0     0     0    -1\n",
       "30000     50000   1         2        1  46     0     0     0     0     0     0\n",
       "\n",
       "[30000 rows x 11 columns]"
      ]
     },
     "execution_count": 65,
     "metadata": {},
     "output_type": "execute_result"
    }
   ],
   "source": [
    "x_real = dados.iloc[:,:11]\n",
    "x_real"
   ]
  },
  {
   "cell_type": "markdown",
   "id": "aed46b4b",
   "metadata": {},
   "source": [
    "Agora que já temos as variáveis independentes salvas, também precisamos da nossa variável dependente, nossos resultados reais (se os clientes se pagaram corretamente a fatura ou se tornaram-se inadimplentes). Fazemos de forma análoga:"
   ]
  },
  {
   "cell_type": "code",
   "execution_count": 66,
   "id": "41654f2a",
   "metadata": {
    "scrolled": false
   },
   "outputs": [
    {
     "data": {
      "text/html": [
       "<div>\n",
       "<style scoped>\n",
       "    .dataframe tbody tr th:only-of-type {\n",
       "        vertical-align: middle;\n",
       "    }\n",
       "\n",
       "    .dataframe tbody tr th {\n",
       "        vertical-align: top;\n",
       "    }\n",
       "\n",
       "    .dataframe thead th {\n",
       "        text-align: right;\n",
       "    }\n",
       "</style>\n",
       "<table border=\"1\" class=\"dataframe\">\n",
       "  <thead>\n",
       "    <tr style=\"text-align: right;\">\n",
       "      <th></th>\n",
       "      <th>default payment next month</th>\n",
       "    </tr>\n",
       "    <tr>\n",
       "      <th>ID</th>\n",
       "      <th></th>\n",
       "    </tr>\n",
       "  </thead>\n",
       "  <tbody>\n",
       "    <tr>\n",
       "      <th>1</th>\n",
       "      <td>1</td>\n",
       "    </tr>\n",
       "    <tr>\n",
       "      <th>2</th>\n",
       "      <td>1</td>\n",
       "    </tr>\n",
       "    <tr>\n",
       "      <th>3</th>\n",
       "      <td>0</td>\n",
       "    </tr>\n",
       "    <tr>\n",
       "      <th>4</th>\n",
       "      <td>0</td>\n",
       "    </tr>\n",
       "    <tr>\n",
       "      <th>5</th>\n",
       "      <td>0</td>\n",
       "    </tr>\n",
       "    <tr>\n",
       "      <th>...</th>\n",
       "      <td>...</td>\n",
       "    </tr>\n",
       "    <tr>\n",
       "      <th>29996</th>\n",
       "      <td>0</td>\n",
       "    </tr>\n",
       "    <tr>\n",
       "      <th>29997</th>\n",
       "      <td>0</td>\n",
       "    </tr>\n",
       "    <tr>\n",
       "      <th>29998</th>\n",
       "      <td>1</td>\n",
       "    </tr>\n",
       "    <tr>\n",
       "      <th>29999</th>\n",
       "      <td>1</td>\n",
       "    </tr>\n",
       "    <tr>\n",
       "      <th>30000</th>\n",
       "      <td>1</td>\n",
       "    </tr>\n",
       "  </tbody>\n",
       "</table>\n",
       "<p>30000 rows × 1 columns</p>\n",
       "</div>"
      ],
      "text/plain": [
       "0     default payment next month\n",
       "ID                              \n",
       "1                              1\n",
       "2                              1\n",
       "3                              0\n",
       "4                              0\n",
       "5                              0\n",
       "...                          ...\n",
       "29996                          0\n",
       "29997                          0\n",
       "29998                          1\n",
       "29999                          1\n",
       "30000                          1\n",
       "\n",
       "[30000 rows x 1 columns]"
      ]
     },
     "execution_count": 66,
     "metadata": {},
     "output_type": "execute_result"
    }
   ],
   "source": [
    "y_real = dados.iloc[:,-1:]\n",
    "y_real"
   ]
  },
  {
   "cell_type": "markdown",
   "id": "44bb3931",
   "metadata": {},
   "source": [
    "O tipo de dado que estavamos trabalhando até agora, pandas.DataFrame, é bom para visualizamos e fazermos essas \"limpezas iniciais nos dados\", porém não é o que desejamos ter para trabalhar na nossa regressão posteriormente. Vamos mudar o tipo de dado para um array numpy, pois dessa forma será melhor para aplicarmos nossas fórmulas:"
   ]
  },
  {
   "cell_type": "code",
   "execution_count": 67,
   "id": "f3a9d92b",
   "metadata": {},
   "outputs": [],
   "source": [
    "x_real = x_real.to_numpy()[:]\n",
    "y_real = y_real.to_numpy()[:]"
   ]
  },
  {
   "cell_type": "markdown",
   "id": "141729de",
   "metadata": {},
   "source": [
    "Por fim, vamos ver o nosso resultado. Primeiramente, nossa variável `x_real`:"
   ]
  },
  {
   "cell_type": "code",
   "execution_count": 68,
   "id": "e041f15f",
   "metadata": {
    "scrolled": true
   },
   "outputs": [
    {
     "data": {
      "text/plain": [
       "array([[20000, 2, 2, ..., -1, -2, -2],\n",
       "       [120000, 2, 2, ..., 0, 0, 2],\n",
       "       [90000, 2, 2, ..., 0, 0, 0],\n",
       "       ...,\n",
       "       [30000, 1, 2, ..., -1, 0, 0],\n",
       "       [80000, 1, 3, ..., 0, 0, -1],\n",
       "       [50000, 1, 2, ..., 0, 0, 0]], dtype=object)"
      ]
     },
     "execution_count": 68,
     "metadata": {},
     "output_type": "execute_result"
    }
   ],
   "source": [
    "x_real"
   ]
  },
  {
   "cell_type": "markdown",
   "id": "b623d98b",
   "metadata": {},
   "source": [
    "Agora, nossa variável `y_real`:"
   ]
  },
  {
   "cell_type": "code",
   "execution_count": 69,
   "id": "77f88dab",
   "metadata": {},
   "outputs": [
    {
     "data": {
      "text/plain": [
       "array([[1],\n",
       "       [1],\n",
       "       [0],\n",
       "       ...,\n",
       "       [1],\n",
       "       [1],\n",
       "       [1]], dtype=object)"
      ]
     },
     "execution_count": 69,
     "metadata": {},
     "output_type": "execute_result"
    }
   ],
   "source": [
    "y_real"
   ]
  },
  {
   "cell_type": "markdown",
   "id": "dd19f941",
   "metadata": {},
   "source": [
    "## Regressão Logística"
   ]
  },
  {
   "cell_type": "markdown",
   "id": "02d758a6",
   "metadata": {},
   "source": [
    "Agora, chegamos na etapa mais importante deste notebook. Vamos criar as nossas funções para fazer a Regressão Logística como desejamos desde o começo. Começaremos, como é de se esperar, pela nossa função logística (ou sigmóide). Vamos criar uma função que, dadas a matriz com as variáveis independentes, nós aplicamos a função logística:"
   ]
  },
  {
   "cell_type": "code",
   "execution_count": 70,
   "id": "32758b3d",
   "metadata": {},
   "outputs": [],
   "source": [
    "def sigmoide(x): # Cria a função da sigmóide, que recebe as variáveis independentes em x\n",
    "    x = x.astype(float) # Converte o tipo de dado para float (ponto flutuante), para não haver problemas com tipo de dados na hora dos cálculos\n",
    "    return (1/(1 + np.exp(-x ))) # Aplica a formula da sigmóide e retorna o resultado"
   ]
  },
  {
   "cell_type": "markdown",
   "id": "eb09e05f",
   "metadata": {},
   "source": [
    "Depois disso, queremos uma função para calcular (ou treinar) ou nossos coeficientes $\\beta_i$ (que vamos dividir enntre `B` para aqueles que multiplicam as variáveis independentes e `b` para $\\beta_0$, para que não seja necessário adicionar um coluna de 1's as nossas variáveis independentes). Temos a seguir a nossa função, aplicando todas as fórmulas e conceitos que já discutimos anteriormente:"
   ]
  },
  {
   "cell_type": "code",
   "execution_count": null,
   "id": "a4a4f70f",
   "metadata": {},
   "outputs": [],
   "source": [
    "def treinar(x_real, y_real, taxa_de_aprendizagem=0.01, iteracoes=1000): # Cria a função para calcular \"treinar\" nosso estimadores\n",
    "    \"\"\"\n",
    "    X: matriz n x m (n variáveis independentes e m observações)\n",
    "    y: vetor 1 x m (vetor coluna transposto)\n",
    "    \"\"\"\n",
    "    x_real = x_real.astype(float) # Converte o tipo de dado\n",
    "    y_real = y_real.astype(float) # Converte o tipo de dado\n",
    "    \n",
    "    n = x_real.shape[0] # Identifica o número de linhas da matriz x_real\n",
    "    m = x_real.shape[1] # Identifica o número de colunas da matriz x_real\n",
    "    \n",
    "    B = np.zeros((n, 1)).astype(float) # Cria o vetor com os estimadores (nossos \"betas\") com valor inicial 0\n",
    "    b = 0 # Cria o \"beta de índice 0\" com valor inicial 0\n",
    "    \n",
    "    perdas = [] # Cria uma lista vazia para guardar o resultados das perdas\n",
    "    for i in range(iteracoes): # Cria um laço para repetir a função o número desejado de vezes para melhorar os estimadores\n",
    "        Z = np.dot(B.T, x_real) + b # Aplica os estimadores na matriz com os variáveis independentes reais, como na nossa fórmula\n",
    "        Z = Z.astype(float) # Converte o tipo do dado\n",
    "        y_previsto = sigmoide(Z) # Aplica a função logística e salva no vetor de resultados previstos com os nossos estimadores atuais\n",
    "        \n",
    "        # Aplica a nossa função de calculo da perda (com o logarítmo da verossimilhança)\n",
    "        perda = -1/m * np.sum((y_real*np.log(y_previsto  + 0.000001) + ((1 - y_real))*np.log((1 - y_previsto + 0.000001))))\n",
    "        \n",
    "        perdas.append(perda) # Adiciona a perda atual calculada a lista de perdas\n",
    "        \n",
    "        dB = np.dot(x_real, (y_previsto - y_real).T)/m # Aplica a derivada da verossimilhanca nos \"betas\"\n",
    "        db = np.mean(y_previsto - y_real) # Aplica a derivada da verossimilhanca no \"beta de índice 0\"\n",
    "        \n",
    "        # Converte o tipo de dado\n",
    "        dB = dB.astype(float)\n",
    "        db = db.astype(float)\n",
    "        \n",
    "        # Atualiza os estimadores com a derivadas calculadas\n",
    "        B -= taxa_de_aprendizagem*dB\n",
    "        b -= taxa_de_aprendizagem*db\n",
    "                   \n",
    "    return {'B': B, 'b': b, 'Perdas': perdas} # Retorna os estimadores que obtivemos como resultado"
   ]
  },
  {
   "cell_type": "markdown",
   "id": "eea70137",
   "metadata": {},
   "source": [
    "Com isso, agora podemos calcular os nossos coeficientes $\\beta_i$:"
   ]
  },
  {
   "cell_type": "code",
   "execution_count": null,
   "id": "b74cbc86",
   "metadata": {},
   "outputs": [],
   "source": [
    "X = x_real.T # Transpõe a matriz com as variáveis independentes\n",
    "Y = y_real.reshape(1, -1) # Transforma o formato do vetor com os resultados reais\n",
    "\n",
    "resultado = treinar(X, Y, taxa_de_aprendizagem=0.2, iteracoes=1000) # Calculando os estimadores \"betas\"\n",
    "\n",
    "b = resultado['b'] # Salva o resultado do estimado \"beta de índice 0\"\n",
    "B = resultado['B'] # Salva o resultado do restante dos estimadores"
   ]
  },
  {
   "cell_type": "markdown",
   "id": "69cb42e1",
   "metadata": {},
   "source": [
    "Com os coeficientes calculados, podemos aplicá-los aos nossos dados reais novamente e obter um resultado que seria previsto pelo nosso modelo:"
   ]
  },
  {
   "cell_type": "code",
   "execution_count": 73,
   "id": "9026a056",
   "metadata": {},
   "outputs": [],
   "source": [
    "def prever(X, B, b): # Cria a função para fazer a previsão dos resultados, dados os nossos estimadores calculados\n",
    "    Z = np.dot(B.T, X) + b # Cria a matriz com os nossos dados de entrada multiplicados pelos nossos estimadores (somado de b, assim como na nossa formula)\n",
    "    Z = Z.astype(float) # Converte o tipo de dado\n",
    "    y_previsto = sigmoide(Z).astype(float) # Aplica a função logística, como já definimos anteriormente\n",
    "    return y_previsto.astype(float) # Retorna o resultado previsto"
   ]
  },
  {
   "cell_type": "markdown",
   "id": "bd8b34e5",
   "metadata": {},
   "source": [
    "Com a função, podemos aplicá-la aos nossos resultados do treinamento e aos nossos dados reais:"
   ]
  },
  {
   "cell_type": "code",
   "execution_count": null,
   "id": "6d0001de",
   "metadata": {},
   "outputs": [],
   "source": [
    "y_previsto = prever(x_real.T, B, b) # Cria um vetor com os resultados estimados de acordo com os nossos estimadores calculados"
   ]
  },
  {
   "cell_type": "markdown",
   "id": "43e2c2df",
   "metadata": {},
   "source": [
    "Evidentemente, após essas etapa, é desejável ter uma função para calcular a acurácia que tivemos ao calcular os coeficientes $\\beta_i$ e, em seguida, os resultados que esses coeficientes nos permitem prever:"
   ]
  },
  {
   "cell_type": "code",
   "execution_count": 91,
   "id": "9bd98fa0",
   "metadata": {},
   "outputs": [],
   "source": [
    "def acuracia(y_previsto, y_real): # Cria a função para medir a acurácia\n",
    "    \"\"\"\n",
    "    Recebe o nosso vetor y_real com os resultados reais e o vetor com os resultados calculados\n",
    "    \"\"\"\n",
    "    y_previsto = np.squeeze(y_previsto).astype(float) # Converte o formato do vetor e o tipo de dados\n",
    "    y_real = np.squeeze(y_true).astype(float) # Converte o formato do vetor e o tipo de dados\n",
    "    y_previsto = np.array([1 if i > 0.5 else 0 for i in y_previsto]) # Transforma o valor do vetor previsto em 1 caso seja maior que 0.5 e 0 caso contrário\n",
    "    return 1 - np.sum(np.abs(y_previsto - y_real))/len(y_real) # Retorna a precisão do resultado"
   ]
  },
  {
   "cell_type": "markdown",
   "id": "a89f4b3c",
   "metadata": {},
   "source": [
    "Com isso, podemos ver a acurácia que tivemos:"
   ]
  },
  {
   "cell_type": "code",
   "execution_count": 114,
   "id": "315957bd",
   "metadata": {
    "scrolled": true
   },
   "outputs": [
    {
     "name": "stdout",
     "output_type": "stream",
     "text": [
      "Acurácia 77.88%\n"
     ]
    }
   ],
   "source": [
    "y_real_reshape = y_real.reshape(1, -1) # Altera o formato (reshape) do vetor com os resultados originais \n",
    "acc = acuracia(y_previsto, y_real_reshape) # Calcula a acurácia da nossa previsão\n",
    "print(f'Acurácia {(acc*100)}%') # Exibe o resultado da acurácia"
   ]
  },
  {
   "cell_type": "markdown",
   "id": "cf99600e",
   "metadata": {},
   "source": [
    "Vamos ver também o nosso $\\beta_0$:"
   ]
  },
  {
   "cell_type": "code",
   "execution_count": 138,
   "id": "276065fe",
   "metadata": {},
   "outputs": [
    {
     "data": {
      "text/plain": [
       "9.740000000000096"
      ]
     },
     "execution_count": 138,
     "metadata": {},
     "output_type": "execute_result"
    }
   ],
   "source": [
    "b"
   ]
  },
  {
   "cell_type": "markdown",
   "id": "1bd39822",
   "metadata": {},
   "source": [
    "E, por fim, o restante dos nossos coeficientes $\\beta_i$:"
   ]
  },
  {
   "cell_type": "code",
   "execution_count": 135,
   "id": "e4259587",
   "metadata": {},
   "outputs": [
    {
     "data": {
      "text/plain": [
       "0\n",
       "LIMIT_BAL   -22157.932000\n",
       "SEX             13.997867\n",
       "EDUCATION       19.886900\n",
       "MARRIAGE        14.060600\n",
       "AGE            356.256917\n",
       "PAY_0           30.136150\n",
       "PAY_2           24.888283\n",
       "PAY_3           21.753900\n",
       "PAY_4           18.873000\n",
       "PAY_5           16.610567\n",
       "PAY_6           15.002950\n",
       "dtype: float64"
      ]
     },
     "execution_count": 135,
     "metadata": {},
     "output_type": "execute_result"
    }
   ],
   "source": [
    "coeficientes = pd.Series(np.squeeze(B))\n",
    "coeficientes.index = dados.columns[:11]\n",
    "coeficientes"
   ]
  },
  {
   "cell_type": "markdown",
   "id": "59b40b28",
   "metadata": {},
   "source": [
    "Dessa, podemos ver que o limite de crédito do cliente é a única dentre as variáveis independentes que diminui a probabilidade que diminui, e significativamente, a probabilidade do cliente ser um cliente pagante. Ou seja, quanto maior o limite de crédito do cliente, maior a probabilidade dele se tornar inadimplente, de acordo com os nossos dados e o nosso modelo."
   ]
  },
  {
   "cell_type": "code",
   "execution_count": null,
   "id": "6f075774",
   "metadata": {},
   "outputs": [],
   "source": []
  },
  {
   "cell_type": "code",
   "execution_count": null,
   "id": "5b20e5a6",
   "metadata": {},
   "outputs": [],
   "source": []
  },
  {
   "cell_type": "code",
   "execution_count": null,
   "id": "553e6d14",
   "metadata": {},
   "outputs": [],
   "source": []
  },
  {
   "cell_type": "markdown",
   "id": "0af2a2ac",
   "metadata": {},
   "source": [
    "\n",
    "\n"
   ]
  }
 ],
 "metadata": {
  "kernelspec": {
   "display_name": "Python 3",
   "language": "python",
   "name": "python3"
  },
  "language_info": {
   "codemirror_mode": {
    "name": "ipython",
    "version": 3
   },
   "file_extension": ".py",
   "mimetype": "text/x-python",
   "name": "python",
   "nbconvert_exporter": "python",
   "pygments_lexer": "ipython3",
   "version": "3.8.8"
  }
 },
 "nbformat": 4,
 "nbformat_minor": 5
}
