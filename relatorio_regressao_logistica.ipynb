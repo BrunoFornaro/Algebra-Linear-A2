{
 "cells": [
  {
   "cell_type": "markdown",
   "id": "227c7581",
   "metadata": {},
   "source": [
    "# Regressão Logística"
   ]
  },
  {
   "cell_type": "markdown",
   "id": "daa80122",
   "metadata": {},
   "source": []
  },
  {
   "cell_type": "code",
   "execution_count": 1,
   "id": "b4f8348a",
   "metadata": {},
   "outputs": [],
   "source": [
    "import numpy"
   ]
  },
  {
   "cell_type": "markdown",
   "id": "c462ca3a",
   "metadata": {},
   "source": [
    "# Bibliografia"
   ]
  },
  {
   "cell_type": "markdown",
   "id": "76083d3e",
   "metadata": {},
   "source": [
    "FACURE, Matheus - **Regressão Logística**. Disponível em: <https://matheusfacure.github.io/2017/02/25/regr-log/>. Acessado 7 de novembro de 2021."
   ]
  },
  {
   "cell_type": "markdown",
   "id": "ad4a55a3",
   "metadata": {},
   "source": [
    "TIBCO - **O que é regressão logística?**. Disponível em: <https://www.tibco.com/pt-br/reference-center/what-is-logistic-regression>. Acessado 7 de novembro de 2021."
   ]
  }
 ],
 "metadata": {
  "kernelspec": {
   "display_name": "Python 3",
   "language": "python",
   "name": "python3"
  },
  "language_info": {
   "codemirror_mode": {
    "name": "ipython",
    "version": 3
   },
   "file_extension": ".py",
   "mimetype": "text/x-python",
   "name": "python",
   "nbconvert_exporter": "python",
   "pygments_lexer": "ipython3",
   "version": "3.8.8"
  }
 },
 "nbformat": 4,
 "nbformat_minor": 5
}
